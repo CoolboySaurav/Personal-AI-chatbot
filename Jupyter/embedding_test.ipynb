{
 "cells": [
  {
   "cell_type": "code",
   "execution_count": 1,
   "metadata": {},
   "outputs": [
    {
     "name": "stderr",
     "output_type": "stream",
     "text": [
      "c:\\Users\\saura\\Desktop\\AI project\\genAI\\Lib\\site-packages\\tqdm\\auto.py:21: TqdmWarning: IProgress not found. Please update jupyter and ipywidgets. See https://ipywidgets.readthedocs.io/en/stable/user_install.html\n",
      "  from .autonotebook import tqdm as notebook_tqdm\n"
     ]
    }
   ],
   "source": [
    "import faiss\n",
    "import numpy as np\n",
    "import pandas as pd\n",
    "import google.generativeai as genai\n",
    "import os"
   ]
  },
  {
   "cell_type": "code",
   "execution_count": 3,
   "metadata": {},
   "outputs": [],
   "source": [
    "path = os.getcwd()\n",
    "\n",
    "# Loading embedings\n",
    "faiss_index = path + \"/faiss_index\"\n",
    "\n",
    "# Loading all the data files \n",
    "data_source = path + \"/data/data.txt\"\n",
    "pdf_source = path + \"/data/resume.pdf\"\n",
    "\n",
    "google_api_key = os.getenv(\"GEMINI_API_KEY\")"
   ]
  },
  {
   "cell_type": "code",
   "execution_count": 4,
   "metadata": {},
   "outputs": [],
   "source": [
    "genai.configure(api_key=google_api_key)"
   ]
  },
  {
   "cell_type": "code",
   "execution_count": 11,
   "metadata": {},
   "outputs": [
    {
     "name": "stderr",
     "output_type": "stream",
     "text": [
      "<>:1: SyntaxWarning: invalid escape sequence '\\e'\n",
      "<>:1: SyntaxWarning: invalid escape sequence '\\e'\n",
      "C:\\Users\\saura\\AppData\\Local\\Temp\\ipykernel_27300\\2419713379.py:1: SyntaxWarning: invalid escape sequence '\\e'\n",
      "  df = pd.read_csv('data\\embeddings.csv')\n"
     ]
    }
   ],
   "source": [
    "df = pd.read_csv('data\\embeddings.csv')"
   ]
  },
  {
   "cell_type": "code",
   "execution_count": 12,
   "metadata": {},
   "outputs": [
    {
     "data": {
      "text/html": [
       "<div>\n",
       "<style scoped>\n",
       "    .dataframe tbody tr th:only-of-type {\n",
       "        vertical-align: middle;\n",
       "    }\n",
       "\n",
       "    .dataframe tbody tr th {\n",
       "        vertical-align: top;\n",
       "    }\n",
       "\n",
       "    .dataframe thead th {\n",
       "        text-align: right;\n",
       "    }\n",
       "</style>\n",
       "<table border=\"1\" class=\"dataframe\">\n",
       "  <thead>\n",
       "    <tr style=\"text-align: right;\">\n",
       "      <th></th>\n",
       "      <th>page_number</th>\n",
       "      <th>sentence_chunk</th>\n",
       "      <th>chunk_word_count</th>\n",
       "      <th>chunk_token_count</th>\n",
       "      <th>embedding</th>\n",
       "    </tr>\n",
       "  </thead>\n",
       "  <tbody>\n",
       "    <tr>\n",
       "      <th>0</th>\n",
       "      <td>0</td>\n",
       "      <td>I belong to a humble middle class family. I wa...</td>\n",
       "      <td>166</td>\n",
       "      <td>232.75</td>\n",
       "      <td>[-0.00085764396, -0.026951997, -0.102263525, -...</td>\n",
       "    </tr>\n",
       "  </tbody>\n",
       "</table>\n",
       "</div>"
      ],
      "text/plain": [
       "   page_number                                     sentence_chunk  \\\n",
       "0            0  I belong to a humble middle class family. I wa...   \n",
       "\n",
       "   chunk_word_count  chunk_token_count  \\\n",
       "0               166             232.75   \n",
       "\n",
       "                                           embedding  \n",
       "0  [-0.00085764396, -0.026951997, -0.102263525, -...  "
      ]
     },
     "execution_count": 12,
     "metadata": {},
     "output_type": "execute_result"
    }
   ],
   "source": [
    "df.head(1)"
   ]
  },
  {
   "cell_type": "code",
   "execution_count": 13,
   "metadata": {},
   "outputs": [
    {
     "name": "stderr",
     "output_type": "stream",
     "text": [
      "C:\\Users\\saura\\AppData\\Local\\Temp\\ipykernel_27300\\286748479.py:1: DeprecationWarning: string or file could not be read to its end due to unmatched data; this will raise a ValueError in the future.\n",
      "  df['embedding'] = df['embedding'].apply(lambda x: np.fromstring(x.strip('[]'), sep=' '))\n"
     ]
    }
   ],
   "source": [
    "df['embedding'] = df['embedding'].apply(lambda x: np.fromstring(x.strip('[]'), sep=' '))"
   ]
  },
  {
   "cell_type": "code",
   "execution_count": 14,
   "metadata": {},
   "outputs": [],
   "source": [
    "df['embedding'] = df['embedding'].apply(lambda x: x.astype(np.float32))"
   ]
  },
  {
   "cell_type": "code",
   "execution_count": 15,
   "metadata": {},
   "outputs": [],
   "source": [
    "# Load the FAISS index\n",
    "index = faiss.read_index(faiss_index)"
   ]
  },
  {
   "cell_type": "code",
   "execution_count": 16,
   "metadata": {},
   "outputs": [],
   "source": [
    "# Lets test the index with a random query \n",
    "query = \"sonography tests\" \n",
    "query_embedding = genai.embed_content(\n",
    "    model=\"models/text-embedding-004\",\n",
    "    content=query,\n",
    "    task_type=\"retrieval_document\",\n",
    "    title=\"profile\"\n",
    ")[\"embedding\"]"
   ]
  },
  {
   "cell_type": "code",
   "execution_count": 17,
   "metadata": {},
   "outputs": [],
   "source": [
    "from helper_functions.faiss_retriever import faiss_retriever\n",
    "\n",
    "\n",
    "retrieved = faiss_retriever(index, query_embedding, df)\n"
   ]
  },
  {
   "cell_type": "code",
   "execution_count": 18,
   "metadata": {},
   "outputs": [
    {
     "name": "stdout",
     "output_type": "stream",
     "text": [
      "Sentence: Finding the desired signal in the dataset was a monumental undertaking. I used FFT analysis and a band-pass filtering module to get the appropriate fetal movement signal. In a short time, I constructed a prototype circuit that could stimulate fetal movement with 73% accuracy. Based on the engineer's input, my prototype passed the sonography equipment validation criteria. Due to the short term of my internship, doing sonography tests on pregnant women would have been expensive and time-consuming. So I plunged an analog clock into jelly to resemble a newborn in the womb. Analog watch ticking can be considered to indicate a baby's heart rate; jelly can be amniotic fluid. This method enabled me to conduct tests with results that resembled radiography reports. At IIT Kanpur, I was actively involved in student activities and extracurriculars. As a member of the fine arts club, I painted the walls of our Olympic-sized swimming pool in my first year., Page: 3, Distance: 0.952613353729248\n"
     ]
    }
   ],
   "source": [
    "\n",
    "for result in retrieved:\n",
    "    print(f\"Sentence: {result['sentence_chunk']}, Page: {result['page_number']}, Distance: {result['distance']}\")"
   ]
  }
 ],
 "metadata": {
  "kernelspec": {
   "display_name": "genAI",
   "language": "python",
   "name": "python3"
  },
  "language_info": {
   "codemirror_mode": {
    "name": "ipython",
    "version": 3
   },
   "file_extension": ".py",
   "mimetype": "text/x-python",
   "name": "python",
   "nbconvert_exporter": "python",
   "pygments_lexer": "ipython3",
   "version": "3.12.5"
  }
 },
 "nbformat": 4,
 "nbformat_minor": 2
}
